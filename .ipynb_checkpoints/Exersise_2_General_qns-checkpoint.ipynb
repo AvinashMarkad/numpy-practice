{
 "cells": [
  {
   "cell_type": "markdown",
   "id": "4bdb3196-448d-46c3-a40a-cd9b3e093b16",
   "metadata": {},
   "source": [
    "General Qns"
   ]
  },
  {
   "cell_type": "code",
   "execution_count": 1,
   "id": "d1edb7c2-8182-4839-ad99-4f33fe7b289e",
   "metadata": {},
   "outputs": [],
   "source": [
    "import numpy as np"
   ]
  },
  {
   "cell_type": "code",
   "execution_count": 2,
   "id": "2f4158a9-ec13-4d99-a145-9671543386d2",
   "metadata": {},
   "outputs": [],
   "source": [
    "# Columns : [age, math_marks, science_marks]\n",
    "# Rows : [student1, student1, student1, student1, student1]\n",
    "data = np.array([\n",
    "    [18,85,78],\n",
    "    [19,92,88],\n",
    "    [17,76,95],\n",
    "    [18,65,70],\n",
    "    [20,90,85]\n",
    "])"
   ]
  },
  {
   "cell_type": "code",
   "execution_count": 3,
   "id": "3791e549-6313-4138-bab3-fe10e9f1d810",
   "metadata": {},
   "outputs": [
    {
     "data": {
      "text/plain": [
       "array([[18, 85, 78],\n",
       "       [19, 92, 88],\n",
       "       [17, 76, 95],\n",
       "       [18, 65, 70],\n",
       "       [20, 90, 85]])"
      ]
     },
     "execution_count": 3,
     "metadata": {},
     "output_type": "execute_result"
    }
   ],
   "source": [
    "data"
   ]
  },
  {
   "cell_type": "markdown",
   "id": "cafd9f56-5be2-48cc-b95c-c9f74b3f9a69",
   "metadata": {},
   "source": [
    "Q.1. Get the shape of metrix"
   ]
  },
  {
   "cell_type": "code",
   "execution_count": 4,
   "id": "e1d919f8-c979-4633-a120-5dec400d501f",
   "metadata": {},
   "outputs": [
    {
     "data": {
      "text/plain": [
       "(5, 3)"
      ]
     },
     "execution_count": 4,
     "metadata": {},
     "output_type": "execute_result"
    }
   ],
   "source": [
    "data.shape"
   ]
  },
  {
   "cell_type": "markdown",
   "id": "eb7b59ab-6915-4bc2-9c23-9d062c884ef0",
   "metadata": {},
   "source": [
    "Q.2. Find the average age of students"
   ]
  },
  {
   "cell_type": "code",
   "execution_count": 5,
   "id": "8143bea4-155b-44f1-bff1-545ddd618cc2",
   "metadata": {},
   "outputs": [
    {
     "data": {
      "text/plain": [
       "array([[18, 85, 78],\n",
       "       [19, 92, 88],\n",
       "       [17, 76, 95],\n",
       "       [18, 65, 70],\n",
       "       [20, 90, 85]])"
      ]
     },
     "execution_count": 5,
     "metadata": {},
     "output_type": "execute_result"
    }
   ],
   "source": [
    "data"
   ]
  },
  {
   "cell_type": "code",
   "execution_count": 6,
   "id": "4bfb6503-d743-487a-a886-fd86cdb8e7be",
   "metadata": {},
   "outputs": [
    {
     "data": {
      "text/plain": [
       "array([[18],\n",
       "       [19],\n",
       "       [17],\n",
       "       [18],\n",
       "       [20]])"
      ]
     },
     "execution_count": 6,
     "metadata": {},
     "output_type": "execute_result"
    }
   ],
   "source": [
    "age_col = data[:,:1]\n",
    "age_col"
   ]
  },
  {
   "cell_type": "code",
   "execution_count": 7,
   "id": "a7470f88-9660-4899-b112-00ef6a95caed",
   "metadata": {},
   "outputs": [
    {
     "data": {
      "text/plain": [
       "np.float64(18.4)"
      ]
     },
     "execution_count": 7,
     "metadata": {},
     "output_type": "execute_result"
    }
   ],
   "source": [
    "avg = np.mean(data[:,0])\n",
    "avg"
   ]
  },
  {
   "cell_type": "code",
   "execution_count": 8,
   "id": "08085593-4b30-4abc-be49-5807d768ed91",
   "metadata": {},
   "outputs": [
    {
     "data": {
      "text/plain": [
       "np.float64(18.4)"
      ]
     },
     "execution_count": 8,
     "metadata": {},
     "output_type": "execute_result"
    }
   ],
   "source": [
    "avg = np.mean(data[:,:1])\n",
    "avg"
   ]
  },
  {
   "cell_type": "markdown",
   "id": "522228cd-3eed-4249-be8d-a8ff9b8598ba",
   "metadata": {},
   "source": [
    "Q.3. Extract/Print math marks of students"
   ]
  },
  {
   "cell_type": "code",
   "execution_count": 9,
   "id": "ee1bd5fe-e2a8-4eb5-813d-ff98c36c497f",
   "metadata": {},
   "outputs": [
    {
     "data": {
      "text/plain": [
       "array([[18, 85, 78],\n",
       "       [19, 92, 88],\n",
       "       [17, 76, 95],\n",
       "       [18, 65, 70],\n",
       "       [20, 90, 85]])"
      ]
     },
     "execution_count": 9,
     "metadata": {},
     "output_type": "execute_result"
    }
   ],
   "source": [
    "data"
   ]
  },
  {
   "cell_type": "code",
   "execution_count": 10,
   "id": "361559a2-b541-4595-800f-27cd83a4e13d",
   "metadata": {},
   "outputs": [
    {
     "data": {
      "text/plain": [
       "array([[85],\n",
       "       [92],\n",
       "       [76],\n",
       "       [65],\n",
       "       [90]])"
      ]
     },
     "execution_count": 10,
     "metadata": {},
     "output_type": "execute_result"
    }
   ],
   "source": [
    "math_marks = data[:,1:2]\n",
    "math_marks"
   ]
  },
  {
   "cell_type": "markdown",
   "id": "ed93b00c-e799-4e28-9660-5c3797c3e4d7",
   "metadata": {},
   "source": [
    "Q.4. find the highest science marks of students"
   ]
  },
  {
   "cell_type": "code",
   "execution_count": 11,
   "id": "74c2d836-2498-46f0-968f-f24913ef1817",
   "metadata": {},
   "outputs": [
    {
     "data": {
      "text/plain": [
       "array([[18, 85, 78],\n",
       "       [19, 92, 88],\n",
       "       [17, 76, 95],\n",
       "       [18, 65, 70],\n",
       "       [20, 90, 85]])"
      ]
     },
     "execution_count": 11,
     "metadata": {},
     "output_type": "execute_result"
    }
   ],
   "source": [
    "data"
   ]
  },
  {
   "cell_type": "code",
   "execution_count": 12,
   "id": "ca448430-dbad-4fbe-9926-7c7cd036480f",
   "metadata": {},
   "outputs": [
    {
     "data": {
      "text/plain": [
       "array([[78],\n",
       "       [88],\n",
       "       [95],\n",
       "       [70],\n",
       "       [85]])"
      ]
     },
     "execution_count": 12,
     "metadata": {},
     "output_type": "execute_result"
    }
   ],
   "source": [
    "sci_marks = data[:,2:3]\n",
    "sci_marks"
   ]
  },
  {
   "cell_type": "code",
   "execution_count": 13,
   "id": "41e95c65-9625-4ff7-bee4-087b0acaad1a",
   "metadata": {},
   "outputs": [
    {
     "data": {
      "text/plain": [
       "np.int64(95)"
      ]
     },
     "execution_count": 13,
     "metadata": {},
     "output_type": "execute_result"
    }
   ],
   "source": [
    "sci_max_marks = np.max(sci_marks)\n",
    "sci_max_marks"
   ]
  },
  {
   "cell_type": "markdown",
   "id": "690bd364-0618-4f64-a5f0-4a4966e0b892",
   "metadata": {},
   "source": [
    "Q.5. Get the details of student who scored more than 90 in math"
   ]
  },
  {
   "cell_type": "code",
   "execution_count": 14,
   "id": "bb93707b-718e-413f-a8bd-cd4f602ed474",
   "metadata": {},
   "outputs": [
    {
     "data": {
      "text/plain": [
       "array([[18, 85, 78],\n",
       "       [19, 92, 88],\n",
       "       [17, 76, 95],\n",
       "       [18, 65, 70],\n",
       "       [20, 90, 85]])"
      ]
     },
     "execution_count": 14,
     "metadata": {},
     "output_type": "execute_result"
    }
   ],
   "source": [
    "data"
   ]
  },
  {
   "cell_type": "code",
   "execution_count": 15,
   "id": "7e075bc8-cb16-4bd7-92b7-f6778d7f880d",
   "metadata": {},
   "outputs": [
    {
     "data": {
      "text/plain": [
       "array([85, 92, 76, 65, 90])"
      ]
     },
     "execution_count": 15,
     "metadata": {},
     "output_type": "execute_result"
    }
   ],
   "source": [
    "data[:,1]"
   ]
  },
  {
   "cell_type": "code",
   "execution_count": 16,
   "id": "ff4c7d3c-993d-4cf3-bd24-aca23b735c54",
   "metadata": {},
   "outputs": [
    {
     "data": {
      "text/plain": [
       "array([False,  True, False, False, False])"
      ]
     },
     "execution_count": 16,
     "metadata": {},
     "output_type": "execute_result"
    }
   ],
   "source": [
    "data[:,1]>90"
   ]
  },
  {
   "cell_type": "code",
   "execution_count": 17,
   "id": "f901f1d1-3ba4-4833-a418-1944791e31b8",
   "metadata": {},
   "outputs": [
    {
     "data": {
      "text/plain": [
       "array([[19, 92, 88]])"
      ]
     },
     "execution_count": 17,
     "metadata": {},
     "output_type": "execute_result"
    }
   ],
   "source": [
    "data[data[:,1]>90]"
   ]
  },
  {
   "cell_type": "markdown",
   "id": "92c4c96f-ef0e-4be1-80cc-c56047c7c634",
   "metadata": {},
   "source": [
    "Q.6. Increase math marks of all students by 5"
   ]
  },
  {
   "cell_type": "code",
   "execution_count": 18,
   "id": "7ff70a8a-8968-4244-9f06-c672a990d288",
   "metadata": {},
   "outputs": [
    {
     "data": {
      "text/plain": [
       "array([[18, 85, 78],\n",
       "       [19, 92, 88],\n",
       "       [17, 76, 95],\n",
       "       [18, 65, 70],\n",
       "       [20, 90, 85]])"
      ]
     },
     "execution_count": 18,
     "metadata": {},
     "output_type": "execute_result"
    }
   ],
   "source": [
    "data"
   ]
  },
  {
   "cell_type": "code",
   "execution_count": 19,
   "id": "8f475137-b7cc-41e4-9388-1198bee8dc1c",
   "metadata": {},
   "outputs": [
    {
     "data": {
      "text/plain": [
       "array([85, 92, 76, 65, 90])"
      ]
     },
     "execution_count": 19,
     "metadata": {},
     "output_type": "execute_result"
    }
   ],
   "source": [
    "inc = data[:,1]\n",
    "inc"
   ]
  },
  {
   "cell_type": "code",
   "execution_count": 20,
   "id": "0d3b8b5c-e878-4d70-9ab1-8386d72a801b",
   "metadata": {},
   "outputs": [
    {
     "data": {
      "text/plain": [
       "array([90, 97, 81, 70, 95])"
      ]
     },
     "execution_count": 20,
     "metadata": {},
     "output_type": "execute_result"
    }
   ],
   "source": [
    "result = inc + 5\n",
    "result"
   ]
  },
  {
   "cell_type": "markdown",
   "id": "8d0d2ede-9e6e-449d-81a4-6872c4acd4c4",
   "metadata": {},
   "source": [
    "Q.7. Find how many students sre yunger than 19"
   ]
  },
  {
   "cell_type": "code",
   "execution_count": 21,
   "id": "ab7ef8c8-b21a-41cd-b270-c2e82f06bcd7",
   "metadata": {},
   "outputs": [
    {
     "data": {
      "text/plain": [
       "array([[18, 85, 78],\n",
       "       [19, 92, 88],\n",
       "       [17, 76, 95],\n",
       "       [18, 65, 70],\n",
       "       [20, 90, 85]])"
      ]
     },
     "execution_count": 21,
     "metadata": {},
     "output_type": "execute_result"
    }
   ],
   "source": [
    "data"
   ]
  },
  {
   "cell_type": "code",
   "execution_count": 22,
   "id": "697c02f5-7e1c-40c1-823a-8ae1d2c186ca",
   "metadata": {},
   "outputs": [
    {
     "data": {
      "text/plain": [
       "3"
      ]
     },
     "execution_count": 22,
     "metadata": {},
     "output_type": "execute_result"
    }
   ],
   "source": [
    "len(data[data[:,0]<19])\n"
   ]
  },
  {
   "cell_type": "markdown",
   "id": "5e2f508e-c3c5-48d4-ad70-503d0e2d92cd",
   "metadata": {},
   "source": [
    "Q.8. Calculate the average marks in each subject (columan-wise mean)"
   ]
  },
  {
   "cell_type": "code",
   "execution_count": 23,
   "id": "b60163aa-695c-494b-8cb3-49f8b3b4f7f9",
   "metadata": {},
   "outputs": [
    {
     "data": {
      "text/plain": [
       "array([[18, 85, 78],\n",
       "       [19, 92, 88],\n",
       "       [17, 76, 95],\n",
       "       [18, 65, 70],\n",
       "       [20, 90, 85]])"
      ]
     },
     "execution_count": 23,
     "metadata": {},
     "output_type": "execute_result"
    }
   ],
   "source": [
    "data"
   ]
  },
  {
   "cell_type": "code",
   "execution_count": 24,
   "id": "7cc51d9f-4090-4e3b-ba5d-d3723d903881",
   "metadata": {},
   "outputs": [
    {
     "data": {
      "text/plain": [
       "array([81.6, 83.2])"
      ]
     },
     "execution_count": 24,
     "metadata": {},
     "output_type": "execute_result"
    }
   ],
   "source": [
    "np.mean(data[:,1:3],axis=0)"
   ]
  },
  {
   "cell_type": "markdown",
   "id": "366e50c7-3557-4eac-86d9-f95d55bdd075",
   "metadata": {},
   "source": [
    "Q.9. Get data of students who scored at least 80 in both subjects"
   ]
  },
  {
   "cell_type": "code",
   "execution_count": 25,
   "id": "7f05d14b-aac9-420e-b1d5-0a80d8f343e7",
   "metadata": {},
   "outputs": [
    {
     "data": {
      "text/plain": [
       "array([[18, 85, 78],\n",
       "       [19, 92, 88],\n",
       "       [17, 76, 95],\n",
       "       [18, 65, 70],\n",
       "       [20, 90, 85]])"
      ]
     },
     "execution_count": 25,
     "metadata": {},
     "output_type": "execute_result"
    }
   ],
   "source": [
    "data"
   ]
  },
  {
   "cell_type": "code",
   "execution_count": 26,
   "id": "5d012b38-6761-4536-a238-5191971981a2",
   "metadata": {},
   "outputs": [
    {
     "data": {
      "text/plain": [
       "array([[19, 92, 88],\n",
       "       [20, 90, 85]])"
      ]
     },
     "execution_count": 26,
     "metadata": {},
     "output_type": "execute_result"
    }
   ],
   "source": [
    "data[ (data[:,1]>=80) & (data[:,2]>=80) ]"
   ]
  },
  {
   "cell_type": "markdown",
   "id": "23d27030-e707-4bdd-a7a3-28ef2fb5e8b4",
   "metadata": {},
   "source": [
    "Q.9. Update math marks by adding 5"
   ]
  },
  {
   "cell_type": "code",
   "execution_count": 27,
   "id": "d4d70104-d0f5-477e-b9e6-e31504f3e4c2",
   "metadata": {},
   "outputs": [
    {
     "data": {
      "text/plain": [
       "array([[18, 85, 78],\n",
       "       [19, 92, 88],\n",
       "       [17, 76, 95],\n",
       "       [18, 65, 70],\n",
       "       [20, 90, 85]])"
      ]
     },
     "execution_count": 27,
     "metadata": {},
     "output_type": "execute_result"
    }
   ],
   "source": [
    "data"
   ]
  },
  {
   "cell_type": "code",
   "execution_count": 28,
   "id": "94cf5a0c-f45f-47ed-a916-a8af85400229",
   "metadata": {},
   "outputs": [
    {
     "data": {
      "text/plain": [
       "array([85, 92, 76, 65, 90])"
      ]
     },
     "execution_count": 28,
     "metadata": {},
     "output_type": "execute_result"
    }
   ],
   "source": [
    "data[:,1]"
   ]
  },
  {
   "cell_type": "code",
   "execution_count": 29,
   "id": "9855a637-663d-4749-b57f-c529a12d6363",
   "metadata": {},
   "outputs": [],
   "source": [
    "data[:,1]+=5"
   ]
  },
  {
   "cell_type": "code",
   "execution_count": 30,
   "id": "5c945d6f-7e56-4eb7-9205-95c78553b433",
   "metadata": {},
   "outputs": [
    {
     "data": {
      "text/plain": [
       "array([[18, 90, 78],\n",
       "       [19, 97, 88],\n",
       "       [17, 81, 95],\n",
       "       [18, 70, 70],\n",
       "       [20, 95, 85]])"
      ]
     },
     "execution_count": 30,
     "metadata": {},
     "output_type": "execute_result"
    }
   ],
   "source": [
    "data"
   ]
  },
  {
   "cell_type": "markdown",
   "id": "7b4a7290-7340-4598-933d-d99232a5c225",
   "metadata": {},
   "source": [
    "Q.10. Replace all Science marks < 75 with 0."
   ]
  },
  {
   "cell_type": "code",
   "execution_count": 31,
   "id": "cb8acbe9-c7f2-4e38-8a79-db59556d88f5",
   "metadata": {},
   "outputs": [
    {
     "data": {
      "text/plain": [
       "array([[18, 90, 78],\n",
       "       [19, 97, 88],\n",
       "       [17, 81, 95],\n",
       "       [18, 70, 70],\n",
       "       [20, 95, 85]])"
      ]
     },
     "execution_count": 31,
     "metadata": {},
     "output_type": "execute_result"
    }
   ],
   "source": [
    "data"
   ]
  },
  {
   "cell_type": "code",
   "execution_count": 32,
   "id": "be344059-00ee-49c1-9a80-b14fce71c6bf",
   "metadata": {},
   "outputs": [
    {
     "data": {
      "text/plain": [
       "array([78, 88, 95, 70, 85])"
      ]
     },
     "execution_count": 32,
     "metadata": {},
     "output_type": "execute_result"
    }
   ],
   "source": [
    "data[:,2]"
   ]
  },
  {
   "cell_type": "code",
   "execution_count": 33,
   "id": "6f7121c8-f07a-4ac5-9010-c0164e15a519",
   "metadata": {},
   "outputs": [],
   "source": [
    "data[:,2][data[:,2] < 75 ] = 0"
   ]
  },
  {
   "cell_type": "code",
   "execution_count": 34,
   "id": "7db55201-198b-4e4f-9c92-a063df7c2236",
   "metadata": {},
   "outputs": [
    {
     "data": {
      "text/plain": [
       "array([[18, 90, 78],\n",
       "       [19, 97, 88],\n",
       "       [17, 81, 95],\n",
       "       [18, 70,  0],\n",
       "       [20, 95, 85]])"
      ]
     },
     "execution_count": 34,
     "metadata": {},
     "output_type": "execute_result"
    }
   ],
   "source": [
    "data"
   ]
  },
  {
   "cell_type": "code",
   "execution_count": null,
   "id": "1e124754-c4ef-4eeb-8561-f438b248b0cd",
   "metadata": {},
   "outputs": [],
   "source": []
  }
 ],
 "metadata": {
  "kernelspec": {
   "display_name": "Python [conda env:base] *",
   "language": "python",
   "name": "conda-base-py"
  },
  "language_info": {
   "codemirror_mode": {
    "name": "ipython",
    "version": 3
   },
   "file_extension": ".py",
   "mimetype": "text/x-python",
   "name": "python",
   "nbconvert_exporter": "python",
   "pygments_lexer": "ipython3",
   "version": "3.13.5"
  }
 },
 "nbformat": 4,
 "nbformat_minor": 5
}
