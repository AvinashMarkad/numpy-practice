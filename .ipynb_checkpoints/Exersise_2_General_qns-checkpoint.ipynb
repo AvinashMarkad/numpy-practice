{
 "cells": [
  {
   "cell_type": "markdown",
   "id": "4bdb3196-448d-46c3-a40a-cd9b3e093b16",
   "metadata": {},
   "source": [
    "General Qns"
   ]
  },
  {
   "cell_type": "code",
   "execution_count": 67,
   "id": "d1edb7c2-8182-4839-ad99-4f33fe7b289e",
   "metadata": {},
   "outputs": [],
   "source": [
    "import numpy as np"
   ]
  },
  {
   "cell_type": "code",
   "execution_count": 68,
   "id": "2f4158a9-ec13-4d99-a145-9671543386d2",
   "metadata": {},
   "outputs": [],
   "source": [
    "# Columns : [age, math_marks, science_marks]\n",
    "# Rows : [student1, student1, student1, student1, student1]\n",
    "data = np.array([\n",
    "    [18,85,78],\n",
    "    [19,92,88],\n",
    "    [17,76,95],\n",
    "    [18,65,70],\n",
    "    [20,90,85]\n",
    "])"
   ]
  },
  {
   "cell_type": "code",
   "execution_count": 69,
   "id": "3791e549-6313-4138-bab3-fe10e9f1d810",
   "metadata": {},
   "outputs": [
    {
     "data": {
      "text/plain": [
       "array([[18, 85, 78],\n",
       "       [19, 92, 88],\n",
       "       [17, 76, 95],\n",
       "       [18, 65, 70],\n",
       "       [20, 90, 85]])"
      ]
     },
     "execution_count": 69,
     "metadata": {},
     "output_type": "execute_result"
    }
   ],
   "source": [
    "data"
   ]
  },
  {
   "cell_type": "markdown",
   "id": "cafd9f56-5be2-48cc-b95c-c9f74b3f9a69",
   "metadata": {},
   "source": [
    "Q.1. Get the shape of metrix"
   ]
  },
  {
   "cell_type": "code",
   "execution_count": 70,
   "id": "e1d919f8-c979-4633-a120-5dec400d501f",
   "metadata": {},
   "outputs": [
    {
     "data": {
      "text/plain": [
       "(5, 3)"
      ]
     },
     "execution_count": 70,
     "metadata": {},
     "output_type": "execute_result"
    }
   ],
   "source": [
    "data.shape"
   ]
  },
  {
   "cell_type": "markdown",
   "id": "eb7b59ab-6915-4bc2-9c23-9d062c884ef0",
   "metadata": {},
   "source": [
    "Q.2. Find the average age of students"
   ]
  },
  {
   "cell_type": "code",
   "execution_count": 71,
   "id": "8143bea4-155b-44f1-bff1-545ddd618cc2",
   "metadata": {},
   "outputs": [
    {
     "data": {
      "text/plain": [
       "array([[18, 85, 78],\n",
       "       [19, 92, 88],\n",
       "       [17, 76, 95],\n",
       "       [18, 65, 70],\n",
       "       [20, 90, 85]])"
      ]
     },
     "execution_count": 71,
     "metadata": {},
     "output_type": "execute_result"
    }
   ],
   "source": [
    "data"
   ]
  },
  {
   "cell_type": "code",
   "execution_count": 72,
   "id": "4bfb6503-d743-487a-a886-fd86cdb8e7be",
   "metadata": {},
   "outputs": [
    {
     "data": {
      "text/plain": [
       "array([[18],\n",
       "       [19],\n",
       "       [17],\n",
       "       [18],\n",
       "       [20]])"
      ]
     },
     "execution_count": 72,
     "metadata": {},
     "output_type": "execute_result"
    }
   ],
   "source": [
    "age_col = data[:,:1]\n",
    "age_col"
   ]
  },
  {
   "cell_type": "code",
   "execution_count": 73,
   "id": "a7470f88-9660-4899-b112-00ef6a95caed",
   "metadata": {},
   "outputs": [
    {
     "data": {
      "text/plain": [
       "np.float64(18.4)"
      ]
     },
     "execution_count": 73,
     "metadata": {},
     "output_type": "execute_result"
    }
   ],
   "source": [
    "avg = np.mean(data[:,0])\n",
    "avg"
   ]
  },
  {
   "cell_type": "code",
   "execution_count": 74,
   "id": "08085593-4b30-4abc-be49-5807d768ed91",
   "metadata": {},
   "outputs": [
    {
     "data": {
      "text/plain": [
       "np.float64(18.4)"
      ]
     },
     "execution_count": 74,
     "metadata": {},
     "output_type": "execute_result"
    }
   ],
   "source": [
    "avg = np.mean(data[:,:1])\n",
    "avg"
   ]
  },
  {
   "cell_type": "markdown",
   "id": "522228cd-3eed-4249-be8d-a8ff9b8598ba",
   "metadata": {},
   "source": [
    "Q.3. Extract/Print math marks of students"
   ]
  },
  {
   "cell_type": "code",
   "execution_count": 75,
   "id": "ee1bd5fe-e2a8-4eb5-813d-ff98c36c497f",
   "metadata": {},
   "outputs": [
    {
     "data": {
      "text/plain": [
       "array([[18, 85, 78],\n",
       "       [19, 92, 88],\n",
       "       [17, 76, 95],\n",
       "       [18, 65, 70],\n",
       "       [20, 90, 85]])"
      ]
     },
     "execution_count": 75,
     "metadata": {},
     "output_type": "execute_result"
    }
   ],
   "source": [
    "data"
   ]
  },
  {
   "cell_type": "code",
   "execution_count": 76,
   "id": "361559a2-b541-4595-800f-27cd83a4e13d",
   "metadata": {},
   "outputs": [
    {
     "data": {
      "text/plain": [
       "array([[85],\n",
       "       [92],\n",
       "       [76],\n",
       "       [65],\n",
       "       [90]])"
      ]
     },
     "execution_count": 76,
     "metadata": {},
     "output_type": "execute_result"
    }
   ],
   "source": [
    "math_marks = data[:,1:2]\n",
    "math_marks"
   ]
  },
  {
   "cell_type": "markdown",
   "id": "ed93b00c-e799-4e28-9660-5c3797c3e4d7",
   "metadata": {},
   "source": [
    "Q.4. find the highest science marks of students"
   ]
  },
  {
   "cell_type": "code",
   "execution_count": 77,
   "id": "74c2d836-2498-46f0-968f-f24913ef1817",
   "metadata": {},
   "outputs": [
    {
     "data": {
      "text/plain": [
       "array([[18, 85, 78],\n",
       "       [19, 92, 88],\n",
       "       [17, 76, 95],\n",
       "       [18, 65, 70],\n",
       "       [20, 90, 85]])"
      ]
     },
     "execution_count": 77,
     "metadata": {},
     "output_type": "execute_result"
    }
   ],
   "source": [
    "data"
   ]
  },
  {
   "cell_type": "code",
   "execution_count": 78,
   "id": "ca448430-dbad-4fbe-9926-7c7cd036480f",
   "metadata": {},
   "outputs": [
    {
     "data": {
      "text/plain": [
       "array([[78],\n",
       "       [88],\n",
       "       [95],\n",
       "       [70],\n",
       "       [85]])"
      ]
     },
     "execution_count": 78,
     "metadata": {},
     "output_type": "execute_result"
    }
   ],
   "source": [
    "sci_marks = data[:,2:3]\n",
    "sci_marks"
   ]
  },
  {
   "cell_type": "code",
   "execution_count": 79,
   "id": "41e95c65-9625-4ff7-bee4-087b0acaad1a",
   "metadata": {},
   "outputs": [
    {
     "data": {
      "text/plain": [
       "np.int64(95)"
      ]
     },
     "execution_count": 79,
     "metadata": {},
     "output_type": "execute_result"
    }
   ],
   "source": [
    "sci_max_marks = np.max(sci_marks)\n",
    "sci_max_marks"
   ]
  },
  {
   "cell_type": "markdown",
   "id": "690bd364-0618-4f64-a5f0-4a4966e0b892",
   "metadata": {},
   "source": [
    "Q.5. Get the details of student who scored more than 90 in math"
   ]
  },
  {
   "cell_type": "code",
   "execution_count": 80,
   "id": "bb93707b-718e-413f-a8bd-cd4f602ed474",
   "metadata": {},
   "outputs": [
    {
     "data": {
      "text/plain": [
       "array([[18, 85, 78],\n",
       "       [19, 92, 88],\n",
       "       [17, 76, 95],\n",
       "       [18, 65, 70],\n",
       "       [20, 90, 85]])"
      ]
     },
     "execution_count": 80,
     "metadata": {},
     "output_type": "execute_result"
    }
   ],
   "source": [
    "data"
   ]
  },
  {
   "cell_type": "code",
   "execution_count": 81,
   "id": "7e075bc8-cb16-4bd7-92b7-f6778d7f880d",
   "metadata": {},
   "outputs": [
    {
     "data": {
      "text/plain": [
       "array([85, 92, 76, 65, 90])"
      ]
     },
     "execution_count": 81,
     "metadata": {},
     "output_type": "execute_result"
    }
   ],
   "source": [
    "data[:,1]"
   ]
  },
  {
   "cell_type": "code",
   "execution_count": 82,
   "id": "ff4c7d3c-993d-4cf3-bd24-aca23b735c54",
   "metadata": {},
   "outputs": [
    {
     "data": {
      "text/plain": [
       "array([False,  True, False, False, False])"
      ]
     },
     "execution_count": 82,
     "metadata": {},
     "output_type": "execute_result"
    }
   ],
   "source": [
    "data[:,1]>90"
   ]
  },
  {
   "cell_type": "code",
   "execution_count": 83,
   "id": "f901f1d1-3ba4-4833-a418-1944791e31b8",
   "metadata": {},
   "outputs": [
    {
     "data": {
      "text/plain": [
       "array([[19, 92, 88]])"
      ]
     },
     "execution_count": 83,
     "metadata": {},
     "output_type": "execute_result"
    }
   ],
   "source": [
    "data[data[:,1]>90]"
   ]
  },
  {
   "cell_type": "markdown",
   "id": "92c4c96f-ef0e-4be1-80cc-c56047c7c634",
   "metadata": {},
   "source": [
    "Q.6. Increase math marks of all students by 5"
   ]
  },
  {
   "cell_type": "code",
   "execution_count": 85,
   "id": "7ff70a8a-8968-4244-9f06-c672a990d288",
   "metadata": {},
   "outputs": [
    {
     "data": {
      "text/plain": [
       "array([[18, 85, 78],\n",
       "       [19, 92, 88],\n",
       "       [17, 76, 95],\n",
       "       [18, 65, 70],\n",
       "       [20, 90, 85]])"
      ]
     },
     "execution_count": 85,
     "metadata": {},
     "output_type": "execute_result"
    }
   ],
   "source": [
    "data"
   ]
  },
  {
   "cell_type": "code",
   "execution_count": 88,
   "id": "8f475137-b7cc-41e4-9388-1198bee8dc1c",
   "metadata": {},
   "outputs": [
    {
     "data": {
      "text/plain": [
       "array([85, 92, 76, 65, 90])"
      ]
     },
     "execution_count": 88,
     "metadata": {},
     "output_type": "execute_result"
    }
   ],
   "source": [
    "inc = data[:,1]\n",
    "inc"
   ]
  },
  {
   "cell_type": "code",
   "execution_count": 90,
   "id": "0d3b8b5c-e878-4d70-9ab1-8386d72a801b",
   "metadata": {},
   "outputs": [
    {
     "data": {
      "text/plain": [
       "array([90, 97, 81, 70, 95])"
      ]
     },
     "execution_count": 90,
     "metadata": {},
     "output_type": "execute_result"
    }
   ],
   "source": [
    "result = inc + 5\n",
    "result"
   ]
  },
  {
   "cell_type": "code",
   "execution_count": null,
   "id": "89d570fa-4da6-45dd-bd96-8878863b8c79",
   "metadata": {},
   "outputs": [],
   "source": []
  },
  {
   "cell_type": "code",
   "execution_count": null,
   "id": "ab7ef8c8-b21a-41cd-b270-c2e82f06bcd7",
   "metadata": {},
   "outputs": [],
   "source": []
  },
  {
   "cell_type": "code",
   "execution_count": null,
   "id": "697c02f5-7e1c-40c1-823a-8ae1d2c186ca",
   "metadata": {},
   "outputs": [],
   "source": []
  }
 ],
 "metadata": {
  "kernelspec": {
   "display_name": "Python [conda env:base] *",
   "language": "python",
   "name": "conda-base-py"
  },
  "language_info": {
   "codemirror_mode": {
    "name": "ipython",
    "version": 3
   },
   "file_extension": ".py",
   "mimetype": "text/x-python",
   "name": "python",
   "nbconvert_exporter": "python",
   "pygments_lexer": "ipython3",
   "version": "3.13.5"
  }
 },
 "nbformat": 4,
 "nbformat_minor": 5
}
