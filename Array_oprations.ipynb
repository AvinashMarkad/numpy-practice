{
 "cells": [
  {
   "cell_type": "markdown",
   "id": "b494b41f-5d2d-410f-8d8b-9adcd7ee9f08",
   "metadata": {},
   "source": [
    "ARRAY OPRATIONS\n",
    "1. Arithmetic Oprations\n",
    "2. Broadcasting\n",
    "3. Deep and Shallow copy\n",
    "4. Matrix Oprations\n"
   ]
  },
  {
   "cell_type": "markdown",
   "id": "84808450-0176-4f6f-ac02-5f96e7623e7d",
   "metadata": {},
   "source": [
    "Advance Array Manipulation\n",
    "1. Stacking Array\n",
    "2. Splitting Array"
   ]
  },
  {
   "cell_type": "code",
   "execution_count": 60,
   "id": "21c7f3bd-2794-4f4c-8b14-943ac02e039b",
   "metadata": {},
   "outputs": [],
   "source": [
    "import numpy as np"
   ]
  },
  {
   "cell_type": "markdown",
   "id": "42ee44e5-0eb3-43fc-8b21-2a6d636b1cbf",
   "metadata": {},
   "source": [
    "1. Arithmetic Oprations"
   ]
  },
  {
   "cell_type": "code",
   "execution_count": 61,
   "id": "f101fbd6-efec-4e22-9067-54e723eeaddb",
   "metadata": {},
   "outputs": [
    {
     "data": {
      "text/plain": [
       "array([1, 2, 3, 4, 5])"
      ]
     },
     "execution_count": 61,
     "metadata": {},
     "output_type": "execute_result"
    }
   ],
   "source": [
    "arr1 = np.arange(1,6)\n",
    "arr1"
   ]
  },
  {
   "cell_type": "code",
   "execution_count": 62,
   "id": "8f83a7f5-3ca7-4bba-9f39-4a8ff9046095",
   "metadata": {},
   "outputs": [
    {
     "data": {
      "text/plain": [
       "array([ 6,  7,  8,  9, 10])"
      ]
     },
     "execution_count": 62,
     "metadata": {},
     "output_type": "execute_result"
    }
   ],
   "source": [
    "arr2 = np.arange(6,11)\n",
    "arr2"
   ]
  },
  {
   "cell_type": "code",
   "execution_count": 63,
   "id": "37fa921e-0c8c-4014-b57e-3ba3ebe88f15",
   "metadata": {},
   "outputs": [
    {
     "data": {
      "text/plain": [
       "array([ 7,  9, 11, 13, 15])"
      ]
     },
     "execution_count": 63,
     "metadata": {},
     "output_type": "execute_result"
    }
   ],
   "source": [
    "sum = arr1 + arr2\n",
    "sum"
   ]
  },
  {
   "cell_type": "code",
   "execution_count": 64,
   "id": "fc1e5c55-86fb-480e-8f27-0fec1a855afe",
   "metadata": {},
   "outputs": [
    {
     "data": {
      "text/plain": [
       "array([5, 5, 5, 5, 5])"
      ]
     },
     "execution_count": 64,
     "metadata": {},
     "output_type": "execute_result"
    }
   ],
   "source": [
    "sub = arr2-arr1\n",
    "sub"
   ]
  },
  {
   "cell_type": "code",
   "execution_count": 65,
   "id": "48c6921d-de99-4627-bf6d-f51a944310be",
   "metadata": {},
   "outputs": [
    {
     "data": {
      "text/plain": [
       "array([ 6, 14, 24, 36, 50])"
      ]
     },
     "execution_count": 65,
     "metadata": {},
     "output_type": "execute_result"
    }
   ],
   "source": [
    "mul = arr1*arr2\n",
    "mul"
   ]
  },
  {
   "cell_type": "code",
   "execution_count": 66,
   "id": "460b51e0-4e94-447a-8e56-47c6395609fe",
   "metadata": {},
   "outputs": [
    {
     "data": {
      "text/plain": [
       "array([6.        , 3.5       , 2.66666667, 2.25      , 2.        ])"
      ]
     },
     "execution_count": 66,
     "metadata": {},
     "output_type": "execute_result"
    }
   ],
   "source": [
    "div1 = arr2/arr1\n",
    "div1"
   ]
  },
  {
   "cell_type": "code",
   "execution_count": 67,
   "id": "f80a70bc-fea5-4bb6-afaf-a23d24eb171f",
   "metadata": {},
   "outputs": [
    {
     "data": {
      "text/plain": [
       "array([0.16666667, 0.28571429, 0.375     , 0.44444444, 0.5       ])"
      ]
     },
     "execution_count": 67,
     "metadata": {},
     "output_type": "execute_result"
    }
   ],
   "source": [
    "div2 = arr1/arr2\n",
    "div2"
   ]
  },
  {
   "cell_type": "code",
   "execution_count": 68,
   "id": "3b826c7f-0f64-4a8c-95cd-5d1ee34e37a9",
   "metadata": {},
   "outputs": [
    {
     "data": {
      "text/plain": [
       "array([6, 3, 2, 2, 2])"
      ]
     },
     "execution_count": 68,
     "metadata": {},
     "output_type": "execute_result"
    }
   ],
   "source": [
    "fdiv = arr2//arr1\n",
    "fdiv"
   ]
  },
  {
   "cell_type": "code",
   "execution_count": 69,
   "id": "f69e62e0-7656-4f8e-8657-4b00e2eee54a",
   "metadata": {},
   "outputs": [
    {
     "data": {
      "text/plain": [
       "array([      1,     128,    6561,  262144, 9765625])"
      ]
     },
     "execution_count": 69,
     "metadata": {},
     "output_type": "execute_result"
    }
   ],
   "source": [
    "power = arr1**arr2\n",
    "power"
   ]
  },
  {
   "cell_type": "markdown",
   "id": "3b796c94-ae57-43ee-ba70-ca3d7f6d60db",
   "metadata": {},
   "source": [
    "2. Broadcasting"
   ]
  },
  {
   "cell_type": "code",
   "execution_count": 70,
   "id": "8c491f07-4849-45de-ba73-43f614b61693",
   "metadata": {},
   "outputs": [
    {
     "data": {
      "text/plain": [
       "[10, 20, 30, 40]"
      ]
     },
     "execution_count": 70,
     "metadata": {},
     "output_type": "execute_result"
    }
   ],
   "source": [
    "l = [10,20,30,40]\n",
    "l"
   ]
  },
  {
   "cell_type": "code",
   "execution_count": 71,
   "id": "73538f08-5e6b-41fd-b987-ccc8d604d04e",
   "metadata": {},
   "outputs": [
    {
     "data": {
      "text/plain": [
       "array([10, 20, 30, 40])"
      ]
     },
     "execution_count": 71,
     "metadata": {},
     "output_type": "execute_result"
    }
   ],
   "source": [
    "arr = np.array(l)\n",
    "arr"
   ]
  },
  {
   "cell_type": "code",
   "execution_count": 72,
   "id": "664456d8-da6f-41c5-8b15-6a15e5ab89b6",
   "metadata": {},
   "outputs": [
    {
     "data": {
      "text/plain": [
       "array([20, 30, 40, 50])"
      ]
     },
     "execution_count": 72,
     "metadata": {},
     "output_type": "execute_result"
    }
   ],
   "source": [
    "arr+10"
   ]
  },
  {
   "cell_type": "code",
   "execution_count": 73,
   "id": "94769ce7-f1f9-44d8-9287-c2dcc7a26875",
   "metadata": {},
   "outputs": [
    {
     "data": {
      "text/plain": [
       "array([[ 1,  2,  3,  4,  5],\n",
       "       [ 6,  7,  8,  9, 10],\n",
       "       [11, 12, 13, 14, 15],\n",
       "       [16, 17, 18, 19, 20],\n",
       "       [21, 22, 23, 24, 25]])"
      ]
     },
     "execution_count": 73,
     "metadata": {},
     "output_type": "execute_result"
    }
   ],
   "source": [
    "arr2 = np.arange(1,26).reshape(5,5)\n",
    "arr2"
   ]
  },
  {
   "cell_type": "code",
   "execution_count": 74,
   "id": "bb321e29-10e1-4d7f-aec2-91902aaf88d8",
   "metadata": {},
   "outputs": [
    {
     "data": {
      "text/plain": [
       "array([[ 1,  2,  3,  4,  5],\n",
       "       [ 6,  7,  8,  9, 10],\n",
       "       [11, 12, 13, 14, 15],\n",
       "       [16, 17, 18, 19, 20],\n",
       "       [21, 22, 23, 24, 25]])"
      ]
     },
     "execution_count": 74,
     "metadata": {},
     "output_type": "execute_result"
    }
   ],
   "source": [
    "arr2"
   ]
  },
  {
   "cell_type": "code",
   "execution_count": 75,
   "id": "933a4612-61c2-4226-a326-e570a8730092",
   "metadata": {},
   "outputs": [
    {
     "data": {
      "text/plain": [
       "array([[11, 12, 13, 14, 15],\n",
       "       [16, 17, 18, 19, 20]])"
      ]
     },
     "execution_count": 75,
     "metadata": {},
     "output_type": "execute_result"
    }
   ],
   "source": [
    "arr2 = arr2[0:2]+10\n",
    "arr2"
   ]
  },
  {
   "cell_type": "code",
   "execution_count": 76,
   "id": "e9cecbff-6475-4c33-9518-b963d280af3f",
   "metadata": {},
   "outputs": [
    {
     "data": {
      "text/plain": [
       "array([[24, 25],\n",
       "       [29, 30]])"
      ]
     },
     "execution_count": 76,
     "metadata": {},
     "output_type": "execute_result"
    }
   ],
   "source": [
    "arr2 = arr2[0:2,3:5]+10\n",
    "arr2"
   ]
  },
  {
   "cell_type": "markdown",
   "id": "34771349-148d-4063-ad68-e55d6a60ed35",
   "metadata": {},
   "source": [
    "3. Deep and Shallow copy"
   ]
  },
  {
   "cell_type": "code",
   "execution_count": 77,
   "id": "12cc137d-0361-4d30-af68-8a4abaebf270",
   "metadata": {},
   "outputs": [
    {
     "data": {
      "text/plain": [
       "array([ 1,  2,  3,  4,  5,  6,  7,  8,  9, 10, 11, 12, 13, 14, 15, 16, 17,\n",
       "       18, 19, 20])"
      ]
     },
     "execution_count": 77,
     "metadata": {},
     "output_type": "execute_result"
    }
   ],
   "source": [
    "arr3 = np.arange(1,21)\n",
    "arr3"
   ]
  },
  {
   "cell_type": "code",
   "execution_count": 78,
   "id": "266146dd-8cc3-4bd0-ac8e-7b2e24ac6d8c",
   "metadata": {},
   "outputs": [
    {
     "data": {
      "text/plain": [
       "array([10, 20, 30, 40, 50])"
      ]
     },
     "execution_count": 78,
     "metadata": {},
     "output_type": "execute_result"
    }
   ],
   "source": [
    "slice = arr3[:5]\n",
    "slice = slice*10\n",
    "slice"
   ]
  },
  {
   "cell_type": "code",
   "execution_count": 79,
   "id": "a3207698-76e2-4c6e-acc5-6d72ccfd0d22",
   "metadata": {},
   "outputs": [
    {
     "data": {
      "text/plain": [
       "array([ 1,  2,  3,  4,  5,  6,  7,  8,  9, 10, 11, 12, 13, 14, 15, 16, 17,\n",
       "       18, 19, 20])"
      ]
     },
     "execution_count": 79,
     "metadata": {},
     "output_type": "execute_result"
    }
   ],
   "source": [
    "arr3 "
   ]
  },
  {
   "cell_type": "code",
   "execution_count": 80,
   "id": "58de4c77-ae7d-4666-9301-735346cbde6d",
   "metadata": {},
   "outputs": [],
   "source": [
    "arr4 = arr3.copy()\n",
    "arr4[0] = 99"
   ]
  },
  {
   "cell_type": "code",
   "execution_count": 81,
   "id": "f3ef2981-3a91-4d87-a39f-2ef0393f6d7a",
   "metadata": {},
   "outputs": [
    {
     "data": {
      "text/plain": [
       "array([99,  2,  3,  4,  5,  6,  7,  8,  9, 10, 11, 12, 13, 14, 15, 16, 17,\n",
       "       18, 19, 20])"
      ]
     },
     "execution_count": 81,
     "metadata": {},
     "output_type": "execute_result"
    }
   ],
   "source": [
    "arr4"
   ]
  },
  {
   "cell_type": "code",
   "execution_count": 82,
   "id": "073cb379-d654-4223-9422-de80e04bc00f",
   "metadata": {},
   "outputs": [
    {
     "data": {
      "text/plain": [
       "array([ 1,  2,  3,  4,  5,  6,  7,  8,  9, 10, 11, 12, 13, 14, 15, 16, 17,\n",
       "       18, 19, 20])"
      ]
     },
     "execution_count": 82,
     "metadata": {},
     "output_type": "execute_result"
    }
   ],
   "source": [
    "arr3"
   ]
  },
  {
   "cell_type": "markdown",
   "id": "dfb61b5a-a792-4825-80d7-d9408dc6903d",
   "metadata": {},
   "source": [
    "4. Matrix Oprations"
   ]
  },
  {
   "cell_type": "code",
   "execution_count": 92,
   "id": "6843418e-8c96-40aa-b4b3-4a5b80dd5371",
   "metadata": {},
   "outputs": [],
   "source": [
    "M1 = np.arange(1,5).reshape(2,2)\n",
    "M2 = np.arange(5,9).reshape(2,2)"
   ]
  },
  {
   "cell_type": "code",
   "execution_count": 93,
   "id": "6c12f94e-77ce-4423-afd4-6977392342c5",
   "metadata": {},
   "outputs": [
    {
     "data": {
      "text/plain": [
       "array([[1, 2],\n",
       "       [3, 4]])"
      ]
     },
     "execution_count": 93,
     "metadata": {},
     "output_type": "execute_result"
    }
   ],
   "source": [
    "M1"
   ]
  },
  {
   "cell_type": "code",
   "execution_count": 94,
   "id": "54a8c520-daf3-4a36-8a3c-aae47bcbbcbe",
   "metadata": {},
   "outputs": [
    {
     "data": {
      "text/plain": [
       "array([[5, 6],\n",
       "       [7, 8]])"
      ]
     },
     "execution_count": 94,
     "metadata": {},
     "output_type": "execute_result"
    }
   ],
   "source": [
    "M2"
   ]
  },
  {
   "cell_type": "code",
   "execution_count": 97,
   "id": "5c2a2d03-8ba7-481a-8265-56e0e51f09a6",
   "metadata": {},
   "outputs": [
    {
     "data": {
      "text/plain": [
       "array([[19, 22],\n",
       "       [43, 50]])"
      ]
     },
     "execution_count": 97,
     "metadata": {},
     "output_type": "execute_result"
    }
   ],
   "source": [
    "mul = M1@M2\n",
    "mul"
   ]
  },
  {
   "cell_type": "code",
   "execution_count": 98,
   "id": "2032208d-f6cf-4976-a9cb-6ca9024d54d8",
   "metadata": {},
   "outputs": [
    {
     "data": {
      "text/plain": [
       "array([[19, 22],\n",
       "       [43, 50]])"
      ]
     },
     "execution_count": 98,
     "metadata": {},
     "output_type": "execute_result"
    }
   ],
   "source": [
    "mul = np.dot(M1,M2)\n",
    "mul"
   ]
  },
  {
   "cell_type": "code",
   "execution_count": 99,
   "id": "75fe1fc2-4d29-4ccc-9527-92eca13a0beb",
   "metadata": {},
   "outputs": [
    {
     "data": {
      "text/plain": [
       "array([[1, 2],\n",
       "       [3, 4]])"
      ]
     },
     "execution_count": 99,
     "metadata": {},
     "output_type": "execute_result"
    }
   ],
   "source": [
    "M1"
   ]
  },
  {
   "cell_type": "code",
   "execution_count": 101,
   "id": "f96ab75e-2a8b-4e64-b886-5515f9c15a06",
   "metadata": {},
   "outputs": [
    {
     "data": {
      "text/plain": [
       "array([[1, 3],\n",
       "       [2, 4]])"
      ]
     },
     "execution_count": 101,
     "metadata": {},
     "output_type": "execute_result"
    }
   ],
   "source": [
    " M1.T"
   ]
  },
  {
   "cell_type": "markdown",
   "id": "515c2e66-829d-4937-b59d-15e7bc781dcc",
   "metadata": {},
   "source": [
    "Advance Array Manipulation"
   ]
  },
  {
   "cell_type": "markdown",
   "id": "ad8c6a41-ae52-43f3-9f51-20b2b1e5aa68",
   "metadata": {},
   "source": [
    "1.Stacking Array"
   ]
  },
  {
   "cell_type": "code",
   "execution_count": 105,
   "id": "932bbfdd-f895-4f22-9ccc-66d194bb0294",
   "metadata": {},
   "outputs": [
    {
     "data": {
      "text/plain": [
       "array([1, 2, 3, 4, 5])"
      ]
     },
     "execution_count": 105,
     "metadata": {},
     "output_type": "execute_result"
    }
   ],
   "source": [
    "a = np.arange(1,6)\n",
    "a"
   ]
  },
  {
   "cell_type": "code",
   "execution_count": 108,
   "id": "e67df0c0-9bd2-4733-be5f-b865b018d153",
   "metadata": {},
   "outputs": [
    {
     "data": {
      "text/plain": [
       "array([ 6,  7,  8,  9, 10])"
      ]
     },
     "execution_count": 108,
     "metadata": {},
     "output_type": "execute_result"
    }
   ],
   "source": [
    "b = np.arange(6,11)\n",
    "b"
   ]
  },
  {
   "cell_type": "code",
   "execution_count": 115,
   "id": "7ce33c6b-19d5-40f8-ad46-ffe07445f9b1",
   "metadata": {},
   "outputs": [
    {
     "data": {
      "text/plain": [
       "array([[ 1,  2,  3,  4,  5],\n",
       "       [ 6,  7,  8,  9, 10]])"
      ]
     },
     "execution_count": 115,
     "metadata": {},
     "output_type": "execute_result"
    }
   ],
   "source": [
    "v_stack = np.vstack((a,b))\n",
    "v_stack"
   ]
  },
  {
   "cell_type": "code",
   "execution_count": 116,
   "id": "0b457125-04bb-4152-868f-8030eb5c8c98",
   "metadata": {},
   "outputs": [
    {
     "data": {
      "text/plain": [
       "array([ 1,  2,  3,  4,  5,  6,  7,  8,  9, 10])"
      ]
     },
     "execution_count": 116,
     "metadata": {},
     "output_type": "execute_result"
    }
   ],
   "source": [
    "h_stack = np.hstack((a,b))\n",
    "h_stack"
   ]
  },
  {
   "cell_type": "code",
   "execution_count": 117,
   "id": "7601482e-0d1e-4ea3-8c06-b02be172bde8",
   "metadata": {},
   "outputs": [
    {
     "data": {
      "text/plain": [
       "array([[ 1,  6],\n",
       "       [ 2,  7],\n",
       "       [ 3,  8],\n",
       "       [ 4,  9],\n",
       "       [ 5, 10]])"
      ]
     },
     "execution_count": 117,
     "metadata": {},
     "output_type": "execute_result"
    }
   ],
   "source": [
    "col_stack = np.column_stack((a,b))\n",
    "col_stack"
   ]
  },
  {
   "cell_type": "markdown",
   "id": "0aa894fe-d13b-49f4-85ae-275509300620",
   "metadata": {},
   "source": [
    "2. Splitting Array"
   ]
  },
  {
   "cell_type": "code",
   "execution_count": 118,
   "id": "c1d706ea-45f2-4de1-a8e6-2a7c8d4edd22",
   "metadata": {},
   "outputs": [
    {
     "data": {
      "text/plain": [
       "array([[ 0,  1,  2,  3],\n",
       "       [ 4,  5,  6,  7],\n",
       "       [ 8,  9, 10, 11],\n",
       "       [12, 13, 14, 15]])"
      ]
     },
     "execution_count": 118,
     "metadata": {},
     "output_type": "execute_result"
    }
   ],
   "source": [
    "c = np.arange(16).reshape(4,4)\n",
    "c"
   ]
  },
  {
   "cell_type": "code",
   "execution_count": 121,
   "id": "1537a0c1-38f1-4b2b-b864-bc5270feb9c0",
   "metadata": {},
   "outputs": [
    {
     "data": {
      "text/plain": [
       "[array([[ 0],\n",
       "        [ 4],\n",
       "        [ 8],\n",
       "        [12]]),\n",
       " array([[ 1],\n",
       "        [ 5],\n",
       "        [ 9],\n",
       "        [13]]),\n",
       " array([[ 2],\n",
       "        [ 6],\n",
       "        [10],\n",
       "        [14]]),\n",
       " array([[ 3],\n",
       "        [ 7],\n",
       "        [11],\n",
       "        [15]])]"
      ]
     },
     "execution_count": 121,
     "metadata": {},
     "output_type": "execute_result"
    }
   ],
   "source": [
    "c1 = np.hsplit(c,4)\n",
    "c1"
   ]
  },
  {
   "cell_type": "code",
   "execution_count": 124,
   "id": "25c0da17-1d3f-4ec9-a2bc-b4d05b786f1a",
   "metadata": {},
   "outputs": [
    {
     "data": {
      "text/plain": [
       "[array([[ 0,  1],\n",
       "        [ 4,  5],\n",
       "        [ 8,  9],\n",
       "        [12, 13]]),\n",
       " array([[ 2,  3],\n",
       "        [ 6,  7],\n",
       "        [10, 11],\n",
       "        [14, 15]])]"
      ]
     },
     "execution_count": 124,
     "metadata": {},
     "output_type": "execute_result"
    }
   ],
   "source": [
    "c1 = np.hsplit(c,2)\n",
    "c1"
   ]
  },
  {
   "cell_type": "code",
   "execution_count": 126,
   "id": "593247d4-9926-48ae-b962-f3127cd7b6b4",
   "metadata": {},
   "outputs": [
    {
     "data": {
      "text/plain": [
       "[array([[0, 1, 2, 3],\n",
       "        [4, 5, 6, 7]]),\n",
       " array([[ 8,  9, 10, 11],\n",
       "        [12, 13, 14, 15]])]"
      ]
     },
     "execution_count": 126,
     "metadata": {},
     "output_type": "execute_result"
    }
   ],
   "source": [
    "c1 = np.vsplit(c,2)\n",
    "c1"
   ]
  },
  {
   "cell_type": "code",
   "execution_count": 127,
   "id": "cf4a1a34-b91f-427f-bf01-d1853ccd6149",
   "metadata": {},
   "outputs": [
    {
     "data": {
      "text/plain": [
       "[array([[0, 1, 2, 3]]),\n",
       " array([[4, 5, 6, 7]]),\n",
       " array([[ 8,  9, 10, 11]]),\n",
       " array([[12, 13, 14, 15]])]"
      ]
     },
     "execution_count": 127,
     "metadata": {},
     "output_type": "execute_result"
    }
   ],
   "source": [
    "c1 = np.vsplit(c,4)\n",
    "c1"
   ]
  },
  {
   "cell_type": "code",
   "execution_count": null,
   "id": "ccc7149e-c3a3-4f9d-bd7e-37af75fd849c",
   "metadata": {},
   "outputs": [],
   "source": []
  }
 ],
 "metadata": {
  "kernelspec": {
   "display_name": "Python [conda env:base] *",
   "language": "python",
   "name": "conda-base-py"
  },
  "language_info": {
   "codemirror_mode": {
    "name": "ipython",
    "version": 3
   },
   "file_extension": ".py",
   "mimetype": "text/x-python",
   "name": "python",
   "nbconvert_exporter": "python",
   "pygments_lexer": "ipython3",
   "version": "3.13.5"
  }
 },
 "nbformat": 4,
 "nbformat_minor": 5
}
