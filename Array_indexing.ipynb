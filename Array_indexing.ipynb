{
 "cells": [
  {
   "cell_type": "markdown",
   "id": "e095c558-b52a-4057-ad48-3b1df4a45336",
   "metadata": {},
   "source": [
    "Array Indexing\n",
    "1. NUMPY INDEXING and SLICING OF VECTORES\n",
    "2. NUMPY INDEXING AND SLICING OF MATRIX\n",
    "3. BOOLEAN INDEXING"
   ]
  },
  {
   "cell_type": "code",
   "execution_count": 1,
   "id": "e73f8b5b-612e-480f-801d-12f02001d51e",
   "metadata": {},
   "outputs": [],
   "source": [
    "import numpy as np"
   ]
  },
  {
   "cell_type": "markdown",
   "id": "f0e93e20-1820-41f1-a63a-e7b3b8e653e2",
   "metadata": {},
   "source": [
    "NUMPY INDEXING and SLICING OF VECTORES"
   ]
  },
  {
   "cell_type": "code",
   "execution_count": 2,
   "id": "ea648d7e-6d99-4808-9fca-e0d91853be05",
   "metadata": {},
   "outputs": [
    {
     "data": {
      "text/plain": [
       "array([ 1,  2,  3,  4,  5,  6,  7,  8,  9, 10])"
      ]
     },
     "execution_count": 2,
     "metadata": {},
     "output_type": "execute_result"
    }
   ],
   "source": [
    "arr = np.arange(1,11)\n",
    "arr"
   ]
  },
  {
   "cell_type": "code",
   "execution_count": 3,
   "id": "32be463e-0f89-459a-a925-ad8d019a63ca",
   "metadata": {},
   "outputs": [
    {
     "data": {
      "text/plain": [
       "array([ 2,  3,  4,  5,  6,  7,  8,  9, 10])"
      ]
     },
     "execution_count": 3,
     "metadata": {},
     "output_type": "execute_result"
    }
   ],
   "source": [
    "arr_slice = arr[1:10]\n",
    "arr_slice"
   ]
  },
  {
   "cell_type": "markdown",
   "id": "aa38775c-6826-4be2-8476-a2bf22b96dec",
   "metadata": {},
   "source": [
    "NUMPY INDEXING AND SLICING OF MATRIX"
   ]
  },
  {
   "cell_type": "code",
   "execution_count": 4,
   "id": "aeacec41-68d3-40eb-9a9c-3e7fc1edbede",
   "metadata": {},
   "outputs": [
    {
     "data": {
      "text/plain": [
       "array([[ 1,  2,  3,  4,  5],\n",
       "       [ 6,  7,  8,  9, 10],\n",
       "       [11, 12, 13, 14, 15],\n",
       "       [16, 17, 18, 19, 20],\n",
       "       [21, 22, 23, 24, 25],\n",
       "       [26, 27, 28, 29, 30]])"
      ]
     },
     "execution_count": 4,
     "metadata": {},
     "output_type": "execute_result"
    }
   ],
   "source": [
    "arr = np.arange(1,31).reshape(6,5)\n",
    "arr"
   ]
  },
  {
   "cell_type": "code",
   "execution_count": 5,
   "id": "ce63b568-f736-42c6-a536-ea7af79b5bd4",
   "metadata": {},
   "outputs": [
    {
     "data": {
      "text/plain": [
       "array([1, 2, 3, 4, 5])"
      ]
     },
     "execution_count": 5,
     "metadata": {},
     "output_type": "execute_result"
    }
   ],
   "source": [
    "arr[0]"
   ]
  },
  {
   "cell_type": "code",
   "execution_count": 6,
   "id": "a429b895-17b7-4c61-952f-08f9df833fab",
   "metadata": {},
   "outputs": [
    {
     "data": {
      "text/plain": [
       "array([[ 1,  2,  3,  4,  5],\n",
       "       [ 6,  7,  8,  9, 10]])"
      ]
     },
     "execution_count": 6,
     "metadata": {},
     "output_type": "execute_result"
    }
   ],
   "source": [
    "arr[0:2]"
   ]
  },
  {
   "cell_type": "code",
   "execution_count": 7,
   "id": "3df6dda1-14bf-4cb0-a0a5-366daa0b2d6b",
   "metadata": {},
   "outputs": [
    {
     "data": {
      "text/plain": [
       "np.int64(5)"
      ]
     },
     "execution_count": 7,
     "metadata": {},
     "output_type": "execute_result"
    }
   ],
   "source": [
    "arr[0,4]"
   ]
  },
  {
   "cell_type": "code",
   "execution_count": 8,
   "id": "6f0ad309-d64d-4639-94d5-f0d16ce053fd",
   "metadata": {},
   "outputs": [
    {
     "data": {
      "text/plain": [
       "array([[2, 3],\n",
       "       [7, 8]])"
      ]
     },
     "execution_count": 8,
     "metadata": {},
     "output_type": "execute_result"
    }
   ],
   "source": [
    "arr[0:2,1:3]"
   ]
  },
  {
   "cell_type": "code",
   "execution_count": 9,
   "id": "b5085b30-2c59-48b1-8dcc-6feda1601659",
   "metadata": {},
   "outputs": [
    {
     "data": {
      "text/plain": [
       "array([[13, 14, 15],\n",
       "       [18, 19, 20],\n",
       "       [23, 24, 25],\n",
       "       [28, 29, 30]])"
      ]
     },
     "execution_count": 9,
     "metadata": {},
     "output_type": "execute_result"
    }
   ],
   "source": [
    "arr[2:6,2:6]"
   ]
  },
  {
   "cell_type": "code",
   "execution_count": 10,
   "id": "9c52ce83-b2d3-4641-8642-62cc5a77018a",
   "metadata": {},
   "outputs": [
    {
     "data": {
      "text/plain": [
       "array([[19, 20],\n",
       "       [24, 25],\n",
       "       [29, 30]])"
      ]
     },
     "execution_count": 10,
     "metadata": {},
     "output_type": "execute_result"
    }
   ],
   "source": [
    "arr[3:6,3:6]"
   ]
  },
  {
   "cell_type": "code",
   "execution_count": 11,
   "id": "e7248830-16b0-493a-8dfc-6bb7d4f05c82",
   "metadata": {},
   "outputs": [
    {
     "data": {
      "text/plain": [
       "array([ 5, 10, 15, 20, 25, 30])"
      ]
     },
     "execution_count": 11,
     "metadata": {},
     "output_type": "execute_result"
    }
   ],
   "source": [
    "arr[:,4]"
   ]
  },
  {
   "cell_type": "markdown",
   "id": "b9873bfa-d67d-43e3-8cc2-a91ddc64f4d7",
   "metadata": {},
   "source": [
    "BOOLEAN INDEXING"
   ]
  },
  {
   "cell_type": "code",
   "execution_count": 13,
   "id": "5ceb16ea-1217-4e01-9f93-2010597c7a5a",
   "metadata": {},
   "outputs": [
    {
     "data": {
      "text/plain": [
       "array([ 1,  2,  3,  4,  5,  6,  7,  8,  9, 10])"
      ]
     },
     "execution_count": 13,
     "metadata": {},
     "output_type": "execute_result"
    }
   ],
   "source": [
    "arr = np.arange(1,11)\n",
    "arr"
   ]
  },
  {
   "cell_type": "code",
   "execution_count": 16,
   "id": "0a9e2473-85df-4026-8530-f9cd81347bb8",
   "metadata": {},
   "outputs": [
    {
     "data": {
      "text/plain": [
       "array([ True,  True,  True,  True,  True])"
      ]
     },
     "execution_count": 16,
     "metadata": {},
     "output_type": "execute_result"
    }
   ],
   "source": [
    "bool_index = arr%2 == 0\n",
    "bool_index"
   ]
  },
  {
   "cell_type": "code",
   "execution_count": 18,
   "id": "d170173c-256a-4800-955b-e363bdde640a",
   "metadata": {},
   "outputs": [
    {
     "data": {
      "text/plain": [
       "array([ 2,  4,  6,  8, 10])"
      ]
     },
     "execution_count": 18,
     "metadata": {},
     "output_type": "execute_result"
    }
   ],
   "source": [
    "arr = arr[bool_index]\n",
    "arr"
   ]
  },
  {
   "cell_type": "code",
   "execution_count": null,
   "id": "f962f011-3802-4f9b-b934-e3e8db31f1a2",
   "metadata": {},
   "outputs": [],
   "source": []
  },
  {
   "cell_type": "code",
   "execution_count": null,
   "id": "613b891a-850d-4e7b-b7ed-631b3a4b1b8a",
   "metadata": {},
   "outputs": [],
   "source": []
  },
  {
   "cell_type": "code",
   "execution_count": null,
   "id": "040cb21b-44c9-43a8-8f0a-5e8718cbef86",
   "metadata": {},
   "outputs": [],
   "source": []
  }
 ],
 "metadata": {
  "kernelspec": {
   "display_name": "Python [conda env:base] *",
   "language": "python",
   "name": "conda-base-py"
  },
  "language_info": {
   "codemirror_mode": {
    "name": "ipython",
    "version": 3
   },
   "file_extension": ".py",
   "mimetype": "text/x-python",
   "name": "python",
   "nbconvert_exporter": "python",
   "pygments_lexer": "ipython3",
   "version": "3.13.5"
  }
 },
 "nbformat": 4,
 "nbformat_minor": 5
}
