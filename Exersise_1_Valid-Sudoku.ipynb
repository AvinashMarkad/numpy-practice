{
 "cells": [
  {
   "cell_type": "markdown",
   "id": "ce3953e4-5c5e-48a1-a7be-e0146d4a512d",
   "metadata": {},
   "source": [
    "Valid Sudoku"
   ]
  },
  {
   "cell_type": "code",
   "execution_count": 207,
   "id": "cdd13e46-559b-4af8-904a-08bc828d577a",
   "metadata": {},
   "outputs": [],
   "source": [
    "import numpy as np"
   ]
  },
  {
   "cell_type": "code",
   "execution_count": 208,
   "id": "052f01d7-8088-45e7-95cb-88abf62b7848",
   "metadata": {},
   "outputs": [],
   "source": [
    "s = np.array([\n",
    "    [5, 3, 4, 6, 7, 8, 9, 1, 2],\n",
    "    [6, 7, 2, 1, 9, 5, 3, 4, 8],\n",
    "    [1, 9, 8, 3, 4, 2, 5, 6, 7],\n",
    "    [8, 5, 9, 7, 6, 1, 4, 2, 3],\n",
    "    [4, 2, 6, 8, 5, 3, 7, 9, 1],\n",
    "    [7, 1, 3, 9, 2, 4, 8, 5, 6],\n",
    "    [9, 6, 1, 5, 3, 7, 2, 8, 4],\n",
    "    [2, 8, 7, 4, 1, 9, 6, 3, 5],\n",
    "    [3, 4, 5, 2, 8, 6, 1, 7, 9]\n",
    "])"
   ]
  },
  {
   "cell_type": "code",
   "execution_count": 209,
   "id": "faaec259-12e2-4543-88f3-11e02afc2f28",
   "metadata": {},
   "outputs": [
    {
     "data": {
      "text/plain": [
       "array([45, 45, 45, 45, 45, 45, 45, 45, 45])"
      ]
     },
     "execution_count": 209,
     "metadata": {},
     "output_type": "execute_result"
    }
   ],
   "source": [
    "a = np.sum(s, axis = 1)\n",
    "a"
   ]
  },
  {
   "cell_type": "code",
   "execution_count": 210,
   "id": "54ba6286-eb5b-40f1-9aa8-33944ea8f86d",
   "metadata": {},
   "outputs": [
    {
     "data": {
      "text/plain": [
       "array([45, 45, 45, 45, 45, 45, 45, 45, 45])"
      ]
     },
     "execution_count": 210,
     "metadata": {},
     "output_type": "execute_result"
    }
   ],
   "source": [
    "b = np.sum(s, axis = 0)\n",
    "b"
   ]
  },
  {
   "cell_type": "code",
   "execution_count": 211,
   "id": "56eeca03-d18e-4844-8c53-6e3e9fd10869",
   "metadata": {},
   "outputs": [
    {
     "data": {
      "text/plain": [
       "array([90, 90, 90, 90, 90, 90, 90, 90, 90])"
      ]
     },
     "execution_count": 211,
     "metadata": {},
     "output_type": "execute_result"
    }
   ],
   "source": [
    "c = a + b\n",
    "c"
   ]
  },
  {
   "cell_type": "code",
   "execution_count": 212,
   "id": "ea8deb12-6227-40b2-8154-d4f8cb48f2d0",
   "metadata": {},
   "outputs": [
    {
     "name": "stdout",
     "output_type": "stream",
     "text": [
      "Sudoku is Valid\n"
     ]
    }
   ],
   "source": [
    "for i in c:\n",
    "    if (i != 90):\n",
    "        print(\"Sudoku is Invalid\")\n",
    "        break\n",
    "else:\n",
    "    print(\"Sudoku is Valid\")\n",
    "        "
   ]
  },
  {
   "cell_type": "code",
   "execution_count": 213,
   "id": "387c25b8-a0a4-421e-bc67-644dc0345dde",
   "metadata": {},
   "outputs": [
    {
     "data": {
      "text/plain": [
       "array([12, 19, 14])"
      ]
     },
     "execution_count": 213,
     "metadata": {},
     "output_type": "execute_result"
    }
   ],
   "source": [
    "b1_col = np.sum(s[0:3,0:3],axis = 0)\n",
    "b1_col"
   ]
  },
  {
   "cell_type": "code",
   "execution_count": 214,
   "id": "e4da6dd4-872b-4c2b-addd-790a3efbf4c3",
   "metadata": {},
   "outputs": [
    {
     "data": {
      "text/plain": [
       "array([12, 15, 18])"
      ]
     },
     "execution_count": 214,
     "metadata": {},
     "output_type": "execute_result"
    }
   ],
   "source": [
    "b1_row = np.sum(s[0:3,0:3],axis = 1)\n",
    "b1_row"
   ]
  },
  {
   "cell_type": "code",
   "execution_count": 215,
   "id": "2d4013a5-7348-4628-98f4-b044a0404a43",
   "metadata": {},
   "outputs": [
    {
     "data": {
      "text/plain": [
       "np.int64(45)"
      ]
     },
     "execution_count": 215,
     "metadata": {},
     "output_type": "execute_result"
    }
   ],
   "source": [
    "b11 = np.sum(b1_row)\n",
    "b11"
   ]
  },
  {
   "cell_type": "code",
   "execution_count": 216,
   "id": "3dcae8cc-46b4-43b9-8df8-dca627f5e782",
   "metadata": {},
   "outputs": [
    {
     "data": {
      "text/plain": [
       "np.int64(45)"
      ]
     },
     "execution_count": 216,
     "metadata": {},
     "output_type": "execute_result"
    }
   ],
   "source": [
    "b12 = np.sum(b1_col)\n",
    "b12"
   ]
  },
  {
   "cell_type": "code",
   "execution_count": 217,
   "id": "c82dcd72-9f17-45ed-9386-bfee9aa0f9c5",
   "metadata": {},
   "outputs": [
    {
     "data": {
      "text/plain": [
       "np.int64(90)"
      ]
     },
     "execution_count": 217,
     "metadata": {},
     "output_type": "execute_result"
    }
   ],
   "source": [
    "b11_b12 = b11+b12\n",
    "b11_b12"
   ]
  },
  {
   "cell_type": "code",
   "execution_count": 218,
   "id": "88b1fa7b-7d6f-49da-abea-35114d937f66",
   "metadata": {},
   "outputs": [
    {
     "name": "stdout",
     "output_type": "stream",
     "text": [
      "Valid\n"
     ]
    }
   ],
   "source": [
    "if(b11_b12 == 90):\n",
    "    print(\"Valid\")\n",
    "else:\n",
    "    print(\"Invalid\")"
   ]
  },
  {
   "cell_type": "code",
   "execution_count": 219,
   "id": "cc3c44e1-5ba8-494a-9007-4293f2f8555a",
   "metadata": {},
   "outputs": [
    {
     "name": "stdout",
     "output_type": "stream",
     "text": [
      "True\n",
      "True\n",
      "True\n",
      "True\n",
      "True\n",
      "True\n",
      "True\n",
      "True\n",
      "True\n"
     ]
    }
   ],
   "source": [
    "for i in range(0,9,3):\n",
    "    for j in range(0,9,3):\n",
    "        p = (s[i:i+3,j:j+3])\n",
    "        l = p.sum()\n",
    "        print(l==45)"
   ]
  },
  {
   "cell_type": "code",
   "execution_count": null,
   "id": "cc569939-0592-4092-bc20-63d196ba3a62",
   "metadata": {},
   "outputs": [],
   "source": []
  },
  {
   "cell_type": "code",
   "execution_count": null,
   "id": "5e5bd9b2-61fe-4308-98c0-680d0c375f64",
   "metadata": {},
   "outputs": [],
   "source": []
  },
  {
   "cell_type": "code",
   "execution_count": null,
   "id": "756f140a-1e57-4119-b8ef-e168ffedc54e",
   "metadata": {},
   "outputs": [],
   "source": []
  },
  {
   "cell_type": "code",
   "execution_count": null,
   "id": "c87a88df-4323-4cf0-89a6-b9d0c750708a",
   "metadata": {},
   "outputs": [],
   "source": []
  }
 ],
 "metadata": {
  "kernelspec": {
   "display_name": "Python [conda env:base] *",
   "language": "python",
   "name": "conda-base-py"
  },
  "language_info": {
   "codemirror_mode": {
    "name": "ipython",
    "version": 3
   },
   "file_extension": ".py",
   "mimetype": "text/x-python",
   "name": "python",
   "nbconvert_exporter": "python",
   "pygments_lexer": "ipython3",
   "version": "3.13.5"
  }
 },
 "nbformat": 4,
 "nbformat_minor": 5
}
